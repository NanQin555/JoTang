{
 "cells": [
  {
   "cell_type": "code",
   "execution_count": 1,
   "id": "7d191926",
   "metadata": {},
   "outputs": [],
   "source": [
    "import re\n",
    "import json\n",
    "import pandas"
   ]
  },
  {
   "cell_type": "code",
   "execution_count": 26,
   "id": "6f249287",
   "metadata": {
    "scrolled": true
   },
   "outputs": [
    {
     "name": "stdout",
     "output_type": "stream",
     "text": [
      "<class 'list'>\n"
     ]
    }
   ],
   "source": [
    "with open(r'C:\\Apps\\Anconda_new\\dataset\\train.json') as f:\n",
    "    dataset_train = json.load(f)\n",
    "print(type(dataset_train)) "
   ]
  },
  {
   "cell_type": "code",
   "execution_count": null,
   "id": "97805a3a",
   "metadata": {},
   "outputs": [],
   "source": []
  }
 ],
 "metadata": {
  "kernelspec": {
   "display_name": "statistics",
   "language": "python",
   "name": "statistics"
  },
  "language_info": {
   "codemirror_mode": {
    "name": "ipython",
    "version": 3
   },
   "file_extension": ".py",
   "mimetype": "text/x-python",
   "name": "python",
   "nbconvert_exporter": "python",
   "pygments_lexer": "ipython3",
   "version": "3.10.6"
  }
 },
 "nbformat": 4,
 "nbformat_minor": 5
}
